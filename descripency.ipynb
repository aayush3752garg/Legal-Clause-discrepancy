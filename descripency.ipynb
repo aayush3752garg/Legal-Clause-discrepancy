{
 "cells": [
  {
   "cell_type": "code",
   "execution_count": 1,
   "id": "c5e3a261",
   "metadata": {},
   "outputs": [
    {
     "name": "stdout",
     "output_type": "stream",
     "text": [
      "Enter text to compare: \"In consideration of the mutual covenants contained herein and for other good and valuable consideration, the parties hereto agree as follows: This agreement outlines the terms and conditions governing the rights, obligations, and responsibilities between [Company Name], a corporation duly organized and existing under the laws of the State of [State], having its principal place of business at [Address], herein referred to as 'Provider', and the individual or entity, hereinafter referred to as 'Client', desiring to engage Provider's services for the purpose of [describe the service]. This agreement shall commence on [Start Date] and remain in effect until the satisfactory completion of services unless earlier terminated as provided herein. Provider agrees to use commercially reasonable efforts to provide the services outlined in Exhibit A attached hereto. Client shall pay Provider fees as specified in Exhibit B in accordance with the payment terms described therein. Both parties acknowledge that any confidential information, proprietary data, or trade secrets disclosed during the term of this agreement shall be kept strictly confidential and shall not be disclosed to any third party without the prior written consent of the disclosing party. Any amendments or modifications to this agreement must be made in writing and signed by both parties. The failure of either party to enforce any provision of this agreement shall not be construed as a waiver of such provision or the right to enforce it at a later time. This agreement constitutes the entire understanding between the parties concerning the subject matter hereof and supersedes all prior agreements, whether oral or written, relating to such subject matter. This clause shall be governed by and construed in accordance with the laws of the State of [State], and any disputes arising under or in connection with this agreement shall be subject to the exclusive jurisdiction of the courts of [City, State]. IN WITNESS WHEREOF, the parties hereto have executed this agreement as of the Effective Date first above written.\"\n",
      "\u001b[1m\u001b[31mCosine Similarity Score:\u001b[0m 0.6910782952373514\n",
      "\u001b[1m\u001b[31mText Discrepancy:\u001b[0m 0.9915509957754979\n",
      "\n",
      "Unsimilar Text:\n",
      "Without the prior written consent of the Company, except to the extent required by an order of a court having competent jurisdiction or under subpoena from an appropriate government agency, the Executive shall comply with the Confidentiality Agreement he executed when hired, and shall not disclose any trade secrets, customer lists, drawings, designs, information regarding product development, marketing plans, sales plans, manufacturing plans, management organization information (including data and other information relating to members of the Board and management), operating policies or manuals, business plans, financial records or other financial, commercial, business or technical information relating to the Company or any of its subsidiaries or information designated as confidential or proprietary that the Company or any of its Subsidiaries may receive belonging to suppliers, customers or others who do business with the Company or any of its subsidiaries (collectively, \"Confidential Information\") to any third person unless such Confidential Information has been previously disclosed to the public by the Company or is in the public domain (other than by reason of Executive's breach of this Section 8).\n"
     ]
    }
   ],
   "source": [
    "import pandas as pd\n",
    "from sklearn.feature_extraction.text import TfidfVectorizer\n",
    "from sklearn.metrics.pairwise import cosine_similarity\n",
    "from difflib import SequenceMatcher\n",
    "from termcolor import colored  # Import the termcolor library for colored text\n",
    "\n",
    "# Load the CSV file into a DataFrame\n",
    "csv_file = \"C:/Users/Aayush Garg/Documents/output whole data indexed.csv\"  # Replace with your CSV file path\n",
    "data = pd.read_csv(csv_file)\n",
    "\n",
    "# Remove rows with missing values in the 'clause_text' column\n",
    "data = data.dropna(subset=['clause_text'])\n",
    "\n",
    "# Input text from the user\n",
    "user_input = input(\"Enter text to compare: \")\n",
    "\n",
    "# Create a list of clause texts from the DataFrame\n",
    "clause_texts = data['clause_text'].tolist()\n",
    "\n",
    "# Calculate TF-IDF vectors for all texts\n",
    "tfidf_vectorizer = TfidfVectorizer()\n",
    "tfidf_matrix = tfidf_vectorizer.fit_transform(clause_texts)\n",
    "\n",
    "# Calculate cosine similarity\n",
    "cosine_similarities = cosine_similarity(tfidf_matrix[-1:], tfidf_matrix[:-1]).flatten()\n",
    "\n",
    "# Find the most similar clause and its index\n",
    "most_similar_index = cosine_similarities.argmax()\n",
    "most_similar_clause = data['clause_text'].iloc[most_similar_index]\n",
    "similarity_score = cosine_similarities[most_similar_index]\n",
    "\n",
    "# Calculate and print the text discrepancies\n",
    "text_diff = SequenceMatcher(None, user_input, most_similar_clause)\n",
    "discrepancy_ratio = 1 - text_diff.ratio()\n",
    "\n",
    "# Format and print the results with red and bold labels\n",
    "print(colored(\"Cosine Similarity Score:\", 'red', attrs=['bold']), similarity_score)\n",
    "if discrepancy_ratio > 0.2:\n",
    "    print(colored(\"Text Discrepancy:\", 'red', attrs=['bold']), discrepancy_ratio)\n",
    "    print(\"\\nUnsimilar Text:\")\n",
    "    print(most_similar_clause)\n",
    "else:\n",
    "    print(\"Text Discrepancy:\", discrepancy_ratio)\n"
   ]
  }
 ],
 "metadata": {
  "kernelspec": {
   "display_name": "Python 3 (ipykernel)",
   "language": "python",
   "name": "python3"
  },
  "language_info": {
   "codemirror_mode": {
    "name": "ipython",
    "version": 3
   },
   "file_extension": ".py",
   "mimetype": "text/x-python",
   "name": "python",
   "nbconvert_exporter": "python",
   "pygments_lexer": "ipython3",
   "version": "3.10.9"
  }
 },
 "nbformat": 4,
 "nbformat_minor": 5
}
