{
 "cells": [
  {
   "cell_type": "code",
   "execution_count": 1,
   "id": "d9326644",
   "metadata": {},
   "outputs": [
    {
     "name": "stderr",
     "output_type": "stream",
     "text": [
      "[nltk_data] Downloading package punkt to C:\\Users\\Aayush\n",
      "[nltk_data]     Garg\\AppData\\Roaming\\nltk_data...\n",
      "[nltk_data]   Package punkt is already up-to-date!\n"
     ]
    }
   ],
   "source": [
    "import torch\n",
    "from transformers import BertTokenizer, BertForSequenceClassification\n",
    "from sklearn.metrics.pairwise import cosine_similarity\n",
    "import nltk\n",
    "nltk.download('punkt')\n",
    "from nltk.tokenize import sent_tokenize"
   ]
  },
  {
   "cell_type": "code",
   "execution_count": 2,
   "id": "3fffdb90",
   "metadata": {},
   "outputs": [
    {
     "name": "stderr",
     "output_type": "stream",
     "text": [
      "Some weights of the model checkpoint at bert-base-uncased were not used when initializing BertForSequenceClassification: ['cls.seq_relationship.weight', 'cls.predictions.transform.dense.weight', 'cls.predictions.transform.dense.bias', 'cls.predictions.decoder.weight', 'cls.predictions.bias', 'cls.predictions.transform.LayerNorm.bias', 'cls.seq_relationship.bias', 'cls.predictions.transform.LayerNorm.weight']\n",
      "- This IS expected if you are initializing BertForSequenceClassification from the checkpoint of a model trained on another task or with another architecture (e.g. initializing a BertForSequenceClassification model from a BertForPreTraining model).\n",
      "- This IS NOT expected if you are initializing BertForSequenceClassification from the checkpoint of a model that you expect to be exactly identical (initializing a BertForSequenceClassification model from a BertForSequenceClassification model).\n",
      "Some weights of BertForSequenceClassification were not initialized from the model checkpoint at bert-base-uncased and are newly initialized: ['classifier.bias', 'classifier.weight']\n",
      "You should probably TRAIN this model on a down-stream task to be able to use it for predictions and inference.\n"
     ]
    }
   ],
   "source": [
    "model_name = 'bert-base-uncased'\n",
    "tokenizer = BertTokenizer.from_pretrained(model_name)\n",
    "model = BertForSequenceClassification.from_pretrained(model_name)"
   ]
  },
  {
   "cell_type": "code",
   "execution_count": 3,
   "id": "4d3a26e2",
   "metadata": {},
   "outputs": [],
   "source": [
    "def sentence_embedding(sentence):\n",
    "    \n",
    "    inputs = tokenizer(sentence, return_tensors=\"pt\", padding=True, truncation=True)\n",
    "    \n",
    "    \n",
    "    with torch.no_grad():\n",
    "        outputs = model(**inputs)\n",
    "        cls_embeddings = outputs.logits  \n",
    "        \n",
    "    return cls_embeddings\n",
    "\n",
    "\n",
    "def cosine_similarity_score(embedding1, embedding2):\n",
    "    return cosine_similarity(embedding1, embedding2)[0][0]"
   ]
  },
  {
   "cell_type": "code",
   "execution_count": 5,
   "id": "9e5feb21",
   "metadata": {},
   "outputs": [
    {
     "name": "stdout",
     "output_type": "stream",
     "text": [
      "Enter Legal Text : \n",
      "In consideration of the mutual covenants contained herein and for other good and valuable consideration, the parties hereto agree as follows: This agreement outlines the terms and conditions governing the rights, obligations, and responsibilities between [Company Name], a corporation duly organized and existing under the laws of the State of [State], having its principal place of business at [Address], herein referred to as 'Provider', and the individual or entity, hereinafter referred to as 'Client', desiring to engage Provider's services for the purpose of [describe the service]. This agreement shall commence on [Start Date] and remain in effect until the satisfactory completion of services unless earlier terminated as provided herein. Provider agrees to use commercially reasonable efforts to provide the services outlined in Exhibit A attached hereto. Client shall pay Provider fees as specified in Exhibit B in accordance with the payment terms described therein. Both parties acknowledge that any confidential information, proprietary data, or trade secrets disclosed during the term of this agreement shall be kept strictly confidential and shall not be disclosed to any third party without the prior written consent of the disclosing party. Any amendments or modifications to this agreement must be made in writing and signed by both parties. The failure of either party to enforce any provision of this agreement shall not be construed as a waiver of such provision or the right to enforce it at a later time. This agreement constitutes the entire understanding between the parties concerning the subject matter hereof and supersedes all prior agreements, whether oral or written, relating to such subject matter. This clause shall be governed by and construed in accordance with the laws of the State of [State], and any disputes arising under or in connection with this agreement shall be subject to the exclusive jurisdiction of the courts of [City, State]. IN WITNESS WHEREOF, the parties hereto have executed this agreement as of the Effective Date first above written.\"\n",
      "------------------------------------------------------------------------------------------------------------------------\n",
      "------------------------------------------------------------------------------------------------------------------------\n",
      "------------------------------------------------------------------------------------------------------------------------\n",
      "------------------------------------------------------------------------------------------------------------------------\n",
      "SUMMARY : \n",
      " This agreement shall commence on [Start Date] and remain in effect until the satisfactory completion of services unless earlier terminated as provided herein. The failure of either party to enforce any provision of this agreement shall not be construed as a waiver of such provision or the right to enforce it at a later time. In consideration of the mutual covenants contained herein and for other good and valuable consideration, the parties hereto agree as follows: This agreement outlines the terms and conditions governing the rights, obligations, and responsibilities between [Company Name], a corporation duly organized and existing under the laws of the State of [State], having its principal place of business at [Address], herein referred to as 'Provider', and the individual or entity, hereinafter referred to as 'Client', desiring to engage Provider's services for the purpose of [describe the service]. Both parties acknowledge that any confidential information, proprietary data, or trade secrets disclosed during the term of this agreement shall be kept strictly confidential and shall not be disclosed to any third party without the prior written consent of the disclosing party. This agreement constitutes the entire understanding between the parties concerning the subject matter hereof and supersedes all prior agreements, whether oral or written, relating to such subject matter.\n"
     ]
    }
   ],
   "source": [
    "legal_text =input(\"Enter Legal Text : \\n\")\n",
    "\n",
    "# Split the legal text\n",
    "sentences = sent_tokenize(legal_text)\n",
    "\n",
    "# Calculate sentence embedding\n",
    "sentence_embeddings = [sentence_embedding(sentence) for sentence in sentences]\n",
    "\n",
    "# Calculate the similarity \n",
    "similarity_matrix = [[cosine_similarity_score(embedding1, embedding2) for embedding2 in sentence_embeddings] for embedding1 in sentence_embeddings]\n",
    "\n",
    "# Calculate sentence scores \n",
    "sentence_importance_scores = [sum(similarity_matrix[i]) for i in range(len(sentences))]\n",
    "\n",
    "# Sort sentences(in descending order).\n",
    "sorted_sentences = [sentence for _, sentence in sorted(zip(sentence_importance_scores, sentences), reverse=True)]\n",
    "\n",
    "# N sentences for the summary\n",
    "summary_sentences = sorted_sentences[:5]\n",
    "\n",
    "# Combine \n",
    "summary = ' '.join(summary_sentences)\n",
    "\n",
    "\n",
    "print(\"------------------------------------------------------------------------------------------------------------------------\")\n",
    "print(\"------------------------------------------------------------------------------------------------------------------------\")\n",
    "print(\"------------------------------------------------------------------------------------------------------------------------\")\n",
    "print(\"------------------------------------------------------------------------------------------------------------------------\")\n",
    "print(\"SUMMARY : \\n\", summary)"
   ]
  },
  {
   "cell_type": "code",
   "execution_count": null,
   "id": "95b4a6da",
   "metadata": {},
   "outputs": [],
   "source": []
  }
 ],
 "metadata": {
  "kernelspec": {
   "display_name": "Python 3 (ipykernel)",
   "language": "python",
   "name": "python3"
  },
  "language_info": {
   "codemirror_mode": {
    "name": "ipython",
    "version": 3
   },
   "file_extension": ".py",
   "mimetype": "text/x-python",
   "name": "python",
   "nbconvert_exporter": "python",
   "pygments_lexer": "ipython3",
   "version": "3.10.9"
  }
 },
 "nbformat": 4,
 "nbformat_minor": 5
}
